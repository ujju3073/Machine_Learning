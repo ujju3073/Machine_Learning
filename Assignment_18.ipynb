{
 "cells": [
  {
   "cell_type": "markdown",
   "metadata": {},
   "source": [
    "Question 1: On considering the diagram,\n",
    "a, b, and c are inputs\n",
    "u = a * b\n",
    "v = a * c\n",
    "w = b + c\n",
    "F = u + v - w\n",
    "What is the value of F? Give answer in the simplest form."
   ]
  },
  {
   "cell_type": "code",
   "execution_count": 3,
   "metadata": {},
   "outputs": [
    {
     "name": "stdout",
     "output_type": "stream",
     "text": [
      "F =(b+c)(a-1)\n"
     ]
    }
   ],
   "source": [
    "#F =((a*b)+(a*c)-(b+c))\n",
    "#  =(ab-b+ac-c)\n",
    "#  =b(a-1)+c(a-1)\n",
    "print('F =(b+c)(a-1)')"
   ]
  },
  {
   "cell_type": "markdown",
   "metadata": {},
   "source": [
    "Question 2: The input values and weights, along with the activation function, are given below. Find the values of x and output (f(x)). \n",
    "If bias is -1.1, then what is the output? Is there any change? Why do we need bias?"
   ]
  },
  {
   "cell_type": "code",
   "execution_count": 7,
   "metadata": {},
   "outputs": [
    {
     "name": "stdout",
     "output_type": "stream",
     "text": [
      "0.9999999994607274\n"
     ]
    }
   ],
   "source": [
    "import math\n",
    "#different inputs\n",
    "x1 = -0.06\n",
    "x2 = -2.5\n",
    "x3 = 1.4\n",
    "#different weights\n",
    "w1 = 2.7\n",
    "w2 = -8.6\n",
    "w3 = 0.002\n",
    "#Formula to find X\n",
    "X = (w1*x1) + (w2*x2) +(w3*x3)\n",
    "#f(x)\n",
    "f = 1 / (1 + math.exp(-X))\n",
    "print(f)"
   ]
  },
  {
   "cell_type": "code",
   "execution_count": 11,
   "metadata": {},
   "outputs": [
    {
     "name": "stdout",
     "output_type": "stream",
     "text": [
      "0.9999999983799357\n"
     ]
    }
   ],
   "source": [
    "bias  = -1.1\n",
    "new_X = X  + bias\n",
    "new_f = 1  /  (1  + math.exp(-new_X))\n",
    "print (new_f)"
   ]
  },
  {
   "cell_type": "code",
   "execution_count": null,
   "metadata": {},
   "outputs": [],
   "source": [
    "Bias affect very very less as its value is too low.\n",
    "#need for bias:\n",
    "In effect, a bias value allows you to shift the activation function to the left or right, which may be critical for successful learning."
   ]
  }
 ],
 "metadata": {
  "kernelspec": {
   "display_name": "Python 3",
   "language": "python",
   "name": "python3"
  },
  "language_info": {
   "codemirror_mode": {
    "name": "ipython",
    "version": 3
   },
   "file_extension": ".py",
   "mimetype": "text/x-python",
   "name": "python",
   "nbconvert_exporter": "python",
   "pygments_lexer": "ipython3",
   "version": "3.6.5"
  }
 },
 "nbformat": 4,
 "nbformat_minor": 2
}
