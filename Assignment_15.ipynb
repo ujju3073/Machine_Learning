{
 "cells": [
  {
   "cell_type": "code",
   "execution_count": 1,
   "metadata": {},
   "outputs": [],
   "source": [
    "#importing packages\n",
    "import pandas as pd\n",
    "import numpy as np\n",
    "from sklearn.datasets import load_digits\n",
    "from sklearn.preprocessing import StandardScaler\n",
    "from sklearn.linear_model import LogisticRegression\n",
    "from sklearn.model_selection import train_test_split\n",
    "from sklearn.decomposition import PCA\n",
    "from sklearn.metrics import *"
   ]
  },
  {
   "cell_type": "markdown",
   "metadata": {},
   "source": [
    "Question 1: Import dataset from sklearn."
   ]
  },
  {
   "cell_type": "code",
   "execution_count": 2,
   "metadata": {},
   "outputs": [
    {
     "data": {
      "text/plain": [
       "((1797, 64), (1797,))"
      ]
     },
     "execution_count": 2,
     "metadata": {},
     "output_type": "execute_result"
    }
   ],
   "source": [
    "df = load_digits()\n",
    "x = df.data\n",
    "y = df.target\n",
    "x.shape, y.shape"
   ]
  },
  {
   "cell_type": "markdown",
   "metadata": {},
   "source": [
    "Question 2: Perform feature scaling."
   ]
  },
  {
   "cell_type": "code",
   "execution_count": 3,
   "metadata": {},
   "outputs": [],
   "source": [
    "x = StandardScaler().fit_transform(x)"
   ]
  },
  {
   "cell_type": "markdown",
   "metadata": {},
   "source": [
    "Question 3: Perform PCA. Take any value for components."
   ]
  },
  {
   "cell_type": "code",
   "execution_count": 4,
   "metadata": {},
   "outputs": [],
   "source": [
    "#Principal Component Analysis\n",
    "A = PCA(n_components =15)"
   ]
  },
  {
   "cell_type": "code",
   "execution_count": 5,
   "metadata": {},
   "outputs": [
    {
     "data": {
      "text/plain": [
       "array([[ 1.9141802 , -0.95440215, -3.94593794, ...,  0.2584649 ,\n",
       "        -0.21622708,  0.78042605],\n",
       "       [ 0.5890335 ,  0.92453726,  3.92485273, ..., -0.07933692,\n",
       "        -0.35337398, -0.68637197],\n",
       "       [ 1.3020475 , -0.31723809,  3.02322716, ..., -0.59204397,\n",
       "        -0.96917649, -1.18191612],\n",
       "       ...,\n",
       "       [ 1.02258865, -0.14784463,  2.46993056, ..., -0.36889488,\n",
       "         0.24536058,  0.31271319],\n",
       "       [ 1.07603102, -0.3808221 , -2.45529607, ...,  0.18733486,\n",
       "        -0.75567877, -0.04112682],\n",
       "       [-1.25773153, -2.22747388,  0.28355871, ...,  0.16747805,\n",
       "         0.69802332,  1.78461848]])"
      ]
     },
     "execution_count": 5,
     "metadata": {},
     "output_type": "execute_result"
    }
   ],
   "source": [
    "new_x=A.fit_transform(x)\n",
    "new_x"
   ]
  },
  {
   "cell_type": "markdown",
   "metadata": {},
   "source": [
    "Question 4: Split data into training and testing sets."
   ]
  },
  {
   "cell_type": "code",
   "execution_count": 6,
   "metadata": {},
   "outputs": [],
   "source": [
    "#perform split on training data\n",
    "x_train,x_test,y_train,y_test  = train_test_split(new_x,y,test_size = 0.2, random_state =20)"
   ]
  },
  {
   "cell_type": "markdown",
   "metadata": {},
   "source": [
    "Question 5: Perform classification (logistic regression)."
   ]
  },
  {
   "cell_type": "code",
   "execution_count": 7,
   "metadata": {},
   "outputs": [
    {
     "data": {
      "text/plain": [
       "LogisticRegression(C=1.0, class_weight=None, dual=False, fit_intercept=True,\n",
       "          intercept_scaling=1, max_iter=100, multi_class='ovr', n_jobs=1,\n",
       "          penalty='l2', random_state=None, solver='liblinear', tol=0.0001,\n",
       "          verbose=0, warm_start=False)"
      ]
     },
     "execution_count": 7,
     "metadata": {},
     "output_type": "execute_result"
    }
   ],
   "source": [
    "#Logistic refression\n",
    "regressor = LogisticRegression()\n",
    "regressor.fit(x_train,y_train)"
   ]
  },
  {
   "cell_type": "code",
   "execution_count": 8,
   "metadata": {},
   "outputs": [],
   "source": [
    "pred = regressor.predict(x_test)"
   ]
  },
  {
   "cell_type": "markdown",
   "metadata": {},
   "source": [
    "Question 6: Print the following: \n",
    "a. Accuracy score\n",
    "b. Confusion Matrix\n",
    "c. Classification Report"
   ]
  },
  {
   "cell_type": "code",
   "execution_count": 9,
   "metadata": {},
   "outputs": [
    {
     "data": {
      "text/plain": [
       "94.16666666666667"
      ]
     },
     "execution_count": 9,
     "metadata": {},
     "output_type": "execute_result"
    }
   ],
   "source": [
    "#accuracy score\n",
    "accuracy_score(y_test,pred)*100"
   ]
  },
  {
   "cell_type": "code",
   "execution_count": 10,
   "metadata": {},
   "outputs": [
    {
     "name": "stdout",
     "output_type": "stream",
     "text": [
      "[[37  0  0  0  0  0  0  0  0  0]\n",
      " [ 0 30  0  0  0  0  0  0  1  0]\n",
      " [ 0  0 27  0  1  0  0  0  0  0]\n",
      " [ 0  0  1 35  0  0  0  2  0  0]\n",
      " [ 0  0  0  0 39  0  0  0  0  2]\n",
      " [ 1  0  0  0  0 32  0  0  0  0]\n",
      " [ 0  3  0  0  0  0 42  0  0  0]\n",
      " [ 0  0  0  0  0  0  0 40  0  0]\n",
      " [ 0  2  0  1  0  0  1  1 29  1]\n",
      " [ 0  1  0  0  0  1  0  1  1 28]]\n"
     ]
    }
   ],
   "source": [
    "#confusion matrix\n",
    "print(confusion_matrix(y_test, pred))"
   ]
  },
  {
   "cell_type": "code",
   "execution_count": 11,
   "metadata": {},
   "outputs": [
    {
     "name": "stdout",
     "output_type": "stream",
     "text": [
      "             precision    recall  f1-score   support\n",
      "\n",
      "          0       0.97      1.00      0.99        37\n",
      "          1       0.83      0.97      0.90        31\n",
      "          2       0.96      0.96      0.96        28\n",
      "          3       0.97      0.92      0.95        38\n",
      "          4       0.97      0.95      0.96        41\n",
      "          5       0.97      0.97      0.97        33\n",
      "          6       0.98      0.93      0.95        45\n",
      "          7       0.91      1.00      0.95        40\n",
      "          8       0.94      0.83      0.88        35\n",
      "          9       0.90      0.88      0.89        32\n",
      "\n",
      "avg / total       0.94      0.94      0.94       360\n",
      "\n"
     ]
    }
   ],
   "source": [
    "#classification report\n",
    "print(classification_report(y_test, pred))"
   ]
  }
 ],
 "metadata": {
  "kernelspec": {
   "display_name": "Python 3",
   "language": "python",
   "name": "python3"
  },
  "language_info": {
   "codemirror_mode": {
    "name": "ipython",
    "version": 3
   },
   "file_extension": ".py",
   "mimetype": "text/x-python",
   "name": "python",
   "nbconvert_exporter": "python",
   "pygments_lexer": "ipython3",
   "version": "3.6.5"
  }
 },
 "nbformat": 4,
 "nbformat_minor": 2
}
