{
 "cells": [
  {
   "cell_type": "code",
   "execution_count": 8,
   "metadata": {},
   "outputs": [],
   "source": [
    "#import libraries\n",
    "import numpy as np\n",
    "import pandas as pd\n",
    "import matplotlib.pyplot as plt\n",
    "import seaborn as sns\n",
    "from sklearn import preprocessing\n",
    "from sklearn.linear_model import LogisticRegression\n",
    "from sklearn.cross_validation import train_test_split\n",
    "%matplotlib inline\n",
    "from sklearn.datasets import load_digits"
   ]
  },
  {
   "cell_type": "markdown",
   "metadata": {},
   "source": [
    "Question 1: Import the dataset from sklearn "
   ]
  },
  {
   "cell_type": "code",
   "execution_count": 37,
   "metadata": {},
   "outputs": [
    {
     "data": {
      "text/plain": [
       "((1797, 64), (1797,))"
      ]
     },
     "execution_count": 37,
     "metadata": {},
     "output_type": "execute_result"
    }
   ],
   "source": [
    "#load_digits\n",
    "dig=load_digits()\n",
    "#Question 2: Save X(features) and y(target) as dataframes\n",
    "x=dig.data\n",
    "y=dig.target\n",
    "x.shape, y.shape"
   ]
  },
  {
   "cell_type": "markdown",
   "metadata": {},
   "source": [
    "Question 3:Split the dataset into training and testing sets."
   ]
  },
  {
   "cell_type": "code",
   "execution_count": 14,
   "metadata": {},
   "outputs": [],
   "source": [
    "#perform split on training data\n",
    "x_train,x_test,y_train,y_test  = train_test_split(x,y,test_size = 0.3, random_state = 2)"
   ]
  },
  {
   "cell_type": "markdown",
   "metadata": {},
   "source": [
    "Question 4: Use Logistic Regression"
   ]
  },
  {
   "cell_type": "code",
   "execution_count": 38,
   "metadata": {},
   "outputs": [
    {
     "data": {
      "text/plain": [
       "LogisticRegression(C=1.0, class_weight=None, dual=False, fit_intercept=True,\n",
       "          intercept_scaling=1, max_iter=100, multi_class='ovr', n_jobs=1,\n",
       "          penalty='l2', random_state=None, solver='liblinear', tol=0.0001,\n",
       "          verbose=0, warm_start=False)"
      ]
     },
     "execution_count": 38,
     "metadata": {},
     "output_type": "execute_result"
    }
   ],
   "source": [
    "#logistic regression\n",
    "regressor = LogisticRegression()\n",
    "regressor.fit(x_train,y_train)"
   ]
  },
  {
   "cell_type": "code",
   "execution_count": 19,
   "metadata": {},
   "outputs": [],
   "source": [
    "#get predicted data\n",
    "pred = regressor.predict(x_test)"
   ]
  },
  {
   "cell_type": "markdown",
   "metadata": {},
   "source": [
    "Question 5: Use Logistic Regression"
   ]
  },
  {
   "cell_type": "code",
   "execution_count": 16,
   "metadata": {},
   "outputs": [],
   "source": [
    "#import libraries\n",
    "from sklearn.metrics import classification_report\n",
    "from sklearn import model_selection\n",
    "from sklearn.metrics import log_loss"
   ]
  },
  {
   "cell_type": "code",
   "execution_count": 34,
   "metadata": {},
   "outputs": [
    {
     "name": "stdout",
     "output_type": "stream",
     "text": [
      "0.9444444444444444\n"
     ]
    }
   ],
   "source": [
    "#classification metrices\n",
    "from sklearn.metrics import accuracy_score\n",
    "print(accuracy_score(y_test,pred))"
   ]
  },
  {
   "cell_type": "code",
   "execution_count": 22,
   "metadata": {},
   "outputs": [],
   "source": [
    "#K fold for cross_validation\n",
    "kfold = model_selection.KFold(n_splits=10,random_state=5)"
   ]
  },
  {
   "cell_type": "code",
   "execution_count": 25,
   "metadata": {},
   "outputs": [
    {
     "data": {
      "text/plain": [
       "array([-0.45798961, -0.14435058, -0.61749705, -0.27323142, -0.27594697,\n",
       "       -0.12815811, -0.11024468, -0.1233365 , -0.62592303, -0.68553964])"
      ]
     },
     "execution_count": 25,
     "metadata": {},
     "output_type": "execute_result"
    }
   ],
   "source": [
    "result_log_loss=model_selection.cross_val_score(regressor,x,y,cv=kfold,scoring='neg_log_loss')\n",
    "result_log_loss"
   ]
  },
  {
   "cell_type": "code",
   "execution_count": 26,
   "metadata": {},
   "outputs": [
    {
     "data": {
      "text/plain": [
       "array([0.73184699, 0.86942354, 0.81023661, 0.79423609, 0.82434177,\n",
       "       0.94343263, 0.92524112, 0.90725247, 0.60169024, 0.82555495])"
      ]
     },
     "execution_count": 26,
     "metadata": {},
     "output_type": "execute_result"
    }
   ],
   "source": [
    "result_r2=model_selection.cross_val_score(regressor,x,y,cv=kfold,scoring='r2')\n",
    "result_r2"
   ]
  },
  {
   "cell_type": "code",
   "execution_count": 29,
   "metadata": {},
   "outputs": [
    {
     "data": {
      "text/plain": [
       "0.24074074074074073"
      ]
     },
     "execution_count": 29,
     "metadata": {},
     "output_type": "execute_result"
    }
   ],
   "source": [
    "from sklearn.metrics import mean_absolute_error\n",
    "mean_absolute_error(y_test, pred)"
   ]
  },
  {
   "cell_type": "code",
   "execution_count": 31,
   "metadata": {},
   "outputs": [
    {
     "data": {
      "text/plain": [
       "1.3222222222222222"
      ]
     },
     "execution_count": 31,
     "metadata": {},
     "output_type": "execute_result"
    }
   ],
   "source": [
    "from sklearn.metrics import mean_squared_error\n",
    "mean_squared_error(y_test,pred)"
   ]
  },
  {
   "cell_type": "code",
   "execution_count": 32,
   "metadata": {},
   "outputs": [
    {
     "data": {
      "text/plain": [
       "array([[54,  0,  0,  0,  0,  0,  0,  0,  0,  0],\n",
       "       [ 0, 51,  0,  1,  0,  0,  0,  0,  3,  1],\n",
       "       [ 0,  0, 54,  0,  0,  0,  0,  0,  0,  0],\n",
       "       [ 0,  0,  0, 56,  0,  2,  0,  2,  1,  1],\n",
       "       [ 0,  2,  0,  0, 49,  0,  0,  0,  0,  2],\n",
       "       [ 0,  0,  0,  0,  0, 56,  0,  1,  0,  2],\n",
       "       [ 0,  0,  0,  0,  0,  0, 55,  0,  1,  0],\n",
       "       [ 0,  0,  0,  0,  0,  0,  0, 54,  1,  0],\n",
       "       [ 0,  5,  0,  1,  0,  0,  0,  0, 41,  0],\n",
       "       [ 0,  0,  0,  0,  0,  1,  0,  0,  3, 40]], dtype=int64)"
      ]
     },
     "execution_count": 32,
     "metadata": {},
     "output_type": "execute_result"
    }
   ],
   "source": [
    "from sklearn.metrics import confusion_matrix\n",
    "confusion_matrix(y_test,pred)"
   ]
  },
  {
   "cell_type": "code",
   "execution_count": 35,
   "metadata": {},
   "outputs": [
    {
     "name": "stdout",
     "output_type": "stream",
     "text": [
      "             precision    recall  f1-score   support\n",
      "\n",
      "          0       1.00      1.00      1.00        54\n",
      "          1       0.88      0.91      0.89        56\n",
      "          2       1.00      1.00      1.00        54\n",
      "          3       0.97      0.90      0.93        62\n",
      "          4       1.00      0.92      0.96        53\n",
      "          5       0.95      0.95      0.95        59\n",
      "          6       1.00      0.98      0.99        56\n",
      "          7       0.95      0.98      0.96        55\n",
      "          8       0.82      0.87      0.85        47\n",
      "          9       0.87      0.91      0.89        44\n",
      "\n",
      "avg / total       0.95      0.94      0.94       540\n",
      "\n"
     ]
    }
   ],
   "source": [
    "#classification metrices\n",
    "print(classification_report(y_test,pred))"
   ]
  }
 ],
 "metadata": {
  "kernelspec": {
   "display_name": "Python 3",
   "language": "python",
   "name": "python3"
  },
  "language_info": {
   "codemirror_mode": {
    "name": "ipython",
    "version": 3
   },
   "file_extension": ".py",
   "mimetype": "text/x-python",
   "name": "python",
   "nbconvert_exporter": "python",
   "pygments_lexer": "ipython3",
   "version": "3.6.5"
  }
 },
 "nbformat": 4,
 "nbformat_minor": 2
}
