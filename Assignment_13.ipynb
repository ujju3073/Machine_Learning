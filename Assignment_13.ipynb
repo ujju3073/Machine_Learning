{
 "cells": [
  {
   "cell_type": "code",
   "execution_count": 1,
   "metadata": {},
   "outputs": [
    {
     "name": "stderr",
     "output_type": "stream",
     "text": [
      "C:\\Users\\karan\\Anaconda3\\lib\\site-packages\\sklearn\\cross_validation.py:41: DeprecationWarning: This module was deprecated in version 0.18 in favor of the model_selection module into which all the refactored classes and functions are moved. Also note that the interface of the new CV iterators are different from that of this module. This module will be removed in 0.20.\n",
      "  \"This module will be removed in 0.20.\", DeprecationWarning)\n"
     ]
    }
   ],
   "source": [
    "#import libraries\n",
    "import numpy as np\n",
    "import pandas as pd\n",
    "import matplotlib.pyplot as plt\n",
    "import seaborn as sns\n",
    "from sklearn.datasets import load_digits\n",
    "from sklearn.cross_validation import train_test_split\n",
    "from sklearn.metrics import accuracy_score\n",
    "from sklearn.metrics import classification_report\n",
    "from sklearn.metrics import confusion_matrix\n",
    "from sklearn.svm import *\n",
    "%matplotlib inline"
   ]
  },
  {
   "cell_type": "markdown",
   "metadata": {},
   "source": [
    "Question 1:Load the dataset from sklearn"
   ]
  },
  {
   "cell_type": "code",
   "execution_count": 2,
   "metadata": {},
   "outputs": [
    {
     "data": {
      "text/plain": [
       "((1797, 64), (1797,))"
      ]
     },
     "execution_count": 2,
     "metadata": {},
     "output_type": "execute_result"
    }
   ],
   "source": [
    "#load_digits datasets\n",
    "df = load_digits()\n",
    "x=df.data\n",
    "y=df.target\n",
    "x.shape, y.shape"
   ]
  },
  {
   "cell_type": "markdown",
   "metadata": {},
   "source": [
    "Question 2:Split the dataset into training and testing sets "
   ]
  },
  {
   "cell_type": "code",
   "execution_count": 3,
   "metadata": {},
   "outputs": [],
   "source": [
    "#perform split on training data\n",
    "x_train,x_test,y_train,y_test  = train_test_split(x,y,test_size = 0.3, random_state = 5)"
   ]
  },
  {
   "cell_type": "markdown",
   "metadata": {},
   "source": [
    "Question 3:Use SVM with kernels\n",
    "    For every kernel, print the following:\n",
    "a. Confusion Matrix\n",
    "b. Classification Report"
   ]
  },
  {
   "cell_type": "code",
   "execution_count": 6,
   "metadata": {},
   "outputs": [],
   "source": [
    "#SVC having kernel\n",
    "svm_model1 = SVC(C=0.5,kernel='linear',degree=3,gamma=3)"
   ]
  },
  {
   "cell_type": "code",
   "execution_count": 7,
   "metadata": {},
   "outputs": [
    {
     "data": {
      "text/plain": [
       "SVC(C=0.5, cache_size=200, class_weight=None, coef0=0.0,\n",
       "  decision_function_shape='ovr', degree=3, gamma=3, kernel='linear',\n",
       "  max_iter=-1, probability=False, random_state=None, shrinking=True,\n",
       "  tol=0.001, verbose=False)"
      ]
     },
     "execution_count": 7,
     "metadata": {},
     "output_type": "execute_result"
    }
   ],
   "source": [
    "svm_model1.fit(x_train,y_train)"
   ]
  },
  {
   "cell_type": "code",
   "execution_count": 8,
   "metadata": {},
   "outputs": [],
   "source": [
    "#prediction for linear kernel\n",
    "pred1=svm_model1.predict(x_test)"
   ]
  },
  {
   "cell_type": "code",
   "execution_count": 10,
   "metadata": {},
   "outputs": [
    {
     "data": {
      "text/plain": [
       "0.9833333333333333"
      ]
     },
     "execution_count": 10,
     "metadata": {},
     "output_type": "execute_result"
    }
   ],
   "source": [
    "#accuracy score\n",
    "accuracy_score(y_test,pred1)"
   ]
  },
  {
   "cell_type": "code",
   "execution_count": 11,
   "metadata": {},
   "outputs": [
    {
     "data": {
      "text/plain": [
       "array([[58,  0,  0,  0,  0,  0,  0,  0,  0,  0],\n",
       "       [ 0, 52,  0,  0,  0,  0,  0,  0,  0,  0],\n",
       "       [ 0,  0, 58,  0,  0,  0,  0,  0,  0,  0],\n",
       "       [ 0,  0,  1, 56,  0,  1,  0,  0,  0,  1],\n",
       "       [ 0,  1,  0,  0, 42,  0,  0,  0,  0,  0],\n",
       "       [ 0,  0,  0,  0,  0, 63,  0,  0,  0,  1],\n",
       "       [ 0,  0,  0,  0,  0,  0, 47,  0,  0,  0],\n",
       "       [ 0,  0,  0,  0,  0,  0,  0, 58,  0,  1],\n",
       "       [ 0,  1,  0,  0,  0,  0,  0,  0, 48,  1],\n",
       "       [ 0,  0,  0,  0,  0,  1,  0,  0,  0, 49]], dtype=int64)"
      ]
     },
     "execution_count": 11,
     "metadata": {},
     "output_type": "execute_result"
    }
   ],
   "source": [
    "#confusion matrix for linear kernel\n",
    "confusion_matrix(y_test,pred1)"
   ]
  },
  {
   "cell_type": "code",
   "execution_count": 12,
   "metadata": {},
   "outputs": [
    {
     "name": "stdout",
     "output_type": "stream",
     "text": [
      "             precision    recall  f1-score   support\n",
      "\n",
      "          0       1.00      1.00      1.00        58\n",
      "          1       0.96      1.00      0.98        52\n",
      "          2       0.98      1.00      0.99        58\n",
      "          3       1.00      0.95      0.97        59\n",
      "          4       1.00      0.98      0.99        43\n",
      "          5       0.97      0.98      0.98        64\n",
      "          6       1.00      1.00      1.00        47\n",
      "          7       1.00      0.98      0.99        59\n",
      "          8       1.00      0.96      0.98        50\n",
      "          9       0.92      0.98      0.95        50\n",
      "\n",
      "avg / total       0.98      0.98      0.98       540\n",
      "\n"
     ]
    }
   ],
   "source": [
    "#classification report\n",
    "print(classification_report(y_test,pred1))"
   ]
  },
  {
   "cell_type": "code",
   "execution_count": 13,
   "metadata": {},
   "outputs": [],
   "source": [
    "#SVC having polynomial kernel\n",
    "svm_model2 = SVC(C=0.5,kernel='poly',degree = 8, gamma = 4)"
   ]
  },
  {
   "cell_type": "code",
   "execution_count": 14,
   "metadata": {},
   "outputs": [
    {
     "data": {
      "text/plain": [
       "SVC(C=0.5, cache_size=200, class_weight=None, coef0=0.0,\n",
       "  decision_function_shape='ovr', degree=8, gamma=4, kernel='poly',\n",
       "  max_iter=-1, probability=False, random_state=None, shrinking=True,\n",
       "  tol=0.001, verbose=False)"
      ]
     },
     "execution_count": 14,
     "metadata": {},
     "output_type": "execute_result"
    }
   ],
   "source": [
    "svm_model2.fit(x_train,y_train)"
   ]
  },
  {
   "cell_type": "code",
   "execution_count": 16,
   "metadata": {},
   "outputs": [],
   "source": [
    "#prediction for polynomial kernel\n",
    "pred2=svm_model2.predict(x_test)"
   ]
  },
  {
   "cell_type": "code",
   "execution_count": 17,
   "metadata": {},
   "outputs": [
    {
     "data": {
      "text/plain": [
       "0.975925925925926"
      ]
     },
     "execution_count": 17,
     "metadata": {},
     "output_type": "execute_result"
    }
   ],
   "source": [
    "#accuracy score of polynomial kernel\n",
    "accuracy_score(y_test,pred2)"
   ]
  },
  {
   "cell_type": "code",
   "execution_count": 18,
   "metadata": {},
   "outputs": [
    {
     "data": {
      "text/plain": [
       "array([[57,  0,  0,  0,  0,  0,  1,  0,  0,  0],\n",
       "       [ 0, 49,  0,  0,  1,  1,  0,  0,  1,  0],\n",
       "       [ 0,  0, 57,  0,  0,  0,  0,  1,  0,  0],\n",
       "       [ 0,  0,  0, 57,  0,  1,  0,  0,  1,  0],\n",
       "       [ 0,  0,  0,  0, 42,  0,  0,  1,  0,  0],\n",
       "       [ 0,  0,  0,  0,  0, 63,  0,  0,  0,  1],\n",
       "       [ 0,  0,  0,  0,  0,  0, 46,  0,  1,  0],\n",
       "       [ 0,  0,  0,  0,  0,  0,  0, 58,  0,  1],\n",
       "       [ 0,  1,  0,  0,  0,  0,  0,  0, 49,  0],\n",
       "       [ 0,  0,  0,  0,  0,  1,  0,  0,  0, 49]], dtype=int64)"
      ]
     },
     "execution_count": 18,
     "metadata": {},
     "output_type": "execute_result"
    }
   ],
   "source": [
    "#confusion matrix\n",
    "confusion_matrix(y_test,pred2)"
   ]
  },
  {
   "cell_type": "code",
   "execution_count": 19,
   "metadata": {},
   "outputs": [
    {
     "name": "stdout",
     "output_type": "stream",
     "text": [
      "             precision    recall  f1-score   support\n",
      "\n",
      "          0       1.00      0.98      0.99        58\n",
      "          1       0.98      0.94      0.96        52\n",
      "          2       1.00      0.98      0.99        58\n",
      "          3       1.00      0.97      0.98        59\n",
      "          4       0.98      0.98      0.98        43\n",
      "          5       0.95      0.98      0.97        64\n",
      "          6       0.98      0.98      0.98        47\n",
      "          7       0.97      0.98      0.97        59\n",
      "          8       0.94      0.98      0.96        50\n",
      "          9       0.96      0.98      0.97        50\n",
      "\n",
      "avg / total       0.98      0.98      0.98       540\n",
      "\n"
     ]
    }
   ],
   "source": [
    "#classification report\n",
    "print(classification_report(y_test,pred2))"
   ]
  },
  {
   "cell_type": "code",
   "execution_count": 20,
   "metadata": {},
   "outputs": [],
   "source": [
    "#SVC having rbf kernel\n",
    "svm_model3 = SVC(kernel='rbf')"
   ]
  },
  {
   "cell_type": "code",
   "execution_count": 21,
   "metadata": {},
   "outputs": [
    {
     "data": {
      "text/plain": [
       "SVC(C=1.0, cache_size=200, class_weight=None, coef0=0.0,\n",
       "  decision_function_shape='ovr', degree=3, gamma='auto', kernel='rbf',\n",
       "  max_iter=-1, probability=False, random_state=None, shrinking=True,\n",
       "  tol=0.001, verbose=False)"
      ]
     },
     "execution_count": 21,
     "metadata": {},
     "output_type": "execute_result"
    }
   ],
   "source": [
    "svm_model3.fit(x_train,y_train)"
   ]
  },
  {
   "cell_type": "code",
   "execution_count": 22,
   "metadata": {},
   "outputs": [],
   "source": [
    "#prediction for rbf kernel\n",
    "pred3=svm_model3.predict(x_test)"
   ]
  },
  {
   "cell_type": "code",
   "execution_count": 23,
   "metadata": {},
   "outputs": [
    {
     "data": {
      "text/plain": [
       "0.32407407407407407"
      ]
     },
     "execution_count": 23,
     "metadata": {},
     "output_type": "execute_result"
    }
   ],
   "source": [
    "#accuracy score\n",
    "accuracy_score(y_test,pred3)"
   ]
  },
  {
   "cell_type": "code",
   "execution_count": 24,
   "metadata": {},
   "outputs": [
    {
     "data": {
      "text/plain": [
       "array([[23,  0,  0,  0, 35,  0,  0,  0,  0,  0],\n",
       "       [ 0, 18,  0,  0, 34,  0,  0,  0,  0,  0],\n",
       "       [ 0,  0, 11,  0, 47,  0,  0,  0,  0,  0],\n",
       "       [ 0,  0,  0, 10, 49,  0,  0,  0,  0,  0],\n",
       "       [ 0,  0,  0,  0, 43,  0,  0,  0,  0,  0],\n",
       "       [ 0,  0,  0,  0, 62,  2,  0,  0,  0,  0],\n",
       "       [ 0,  0,  0,  0, 19,  0, 28,  0,  0,  0],\n",
       "       [ 0,  0,  0,  0, 45,  0,  0, 14,  0,  0],\n",
       "       [ 0,  0,  0,  0, 45,  0,  0,  0,  5,  0],\n",
       "       [ 0,  0,  0,  0, 29,  0,  0,  0,  0, 21]], dtype=int64)"
      ]
     },
     "execution_count": 24,
     "metadata": {},
     "output_type": "execute_result"
    }
   ],
   "source": [
    "#confusion matrix\n",
    "confusion_matrix(y_test,pred3)"
   ]
  },
  {
   "cell_type": "code",
   "execution_count": 25,
   "metadata": {},
   "outputs": [
    {
     "name": "stdout",
     "output_type": "stream",
     "text": [
      "             precision    recall  f1-score   support\n",
      "\n",
      "          0       1.00      0.40      0.57        58\n",
      "          1       1.00      0.35      0.51        52\n",
      "          2       1.00      0.19      0.32        58\n",
      "          3       1.00      0.17      0.29        59\n",
      "          4       0.11      1.00      0.19        43\n",
      "          5       1.00      0.03      0.06        64\n",
      "          6       1.00      0.60      0.75        47\n",
      "          7       1.00      0.24      0.38        59\n",
      "          8       1.00      0.10      0.18        50\n",
      "          9       1.00      0.42      0.59        50\n",
      "\n",
      "avg / total       0.93      0.32      0.38       540\n",
      "\n"
     ]
    }
   ],
   "source": [
    "#classification report\n",
    "print(classification_report(y_test,pred3))"
   ]
  },
  {
   "cell_type": "code",
   "execution_count": 26,
   "metadata": {},
   "outputs": [],
   "source": [
    "#SVC having kernel sigmoid\n",
    "svm_model4 = SVC(C=3,kernel='sigmoid',degree=5,gamma=6)"
   ]
  },
  {
   "cell_type": "code",
   "execution_count": 27,
   "metadata": {},
   "outputs": [
    {
     "data": {
      "text/plain": [
       "SVC(C=3, cache_size=200, class_weight=None, coef0=0.0,\n",
       "  decision_function_shape='ovr', degree=5, gamma=6, kernel='sigmoid',\n",
       "  max_iter=-1, probability=False, random_state=None, shrinking=True,\n",
       "  tol=0.001, verbose=False)"
      ]
     },
     "execution_count": 27,
     "metadata": {},
     "output_type": "execute_result"
    }
   ],
   "source": [
    "svm_model4.fit(x_train,y_train)"
   ]
  },
  {
   "cell_type": "code",
   "execution_count": 28,
   "metadata": {},
   "outputs": [],
   "source": [
    "#prediction for sigmoid kernel\n",
    "pred4=svm_model4.predict(x_test)"
   ]
  },
  {
   "cell_type": "code",
   "execution_count": 29,
   "metadata": {},
   "outputs": [
    {
     "data": {
      "text/plain": [
       "0.07962962962962963"
      ]
     },
     "execution_count": 29,
     "metadata": {},
     "output_type": "execute_result"
    }
   ],
   "source": [
    "#accuracy score\n",
    "accuracy_score(y_test,pred4)"
   ]
  },
  {
   "cell_type": "code",
   "execution_count": 30,
   "metadata": {},
   "outputs": [
    {
     "data": {
      "text/plain": [
       "array([[ 0,  0,  0,  0, 58,  0,  0,  0,  0,  0],\n",
       "       [ 0,  0,  0,  0, 52,  0,  0,  0,  0,  0],\n",
       "       [ 0,  0,  0,  0, 58,  0,  0,  0,  0,  0],\n",
       "       [ 0,  0,  0,  0, 59,  0,  0,  0,  0,  0],\n",
       "       [ 0,  0,  0,  0, 43,  0,  0,  0,  0,  0],\n",
       "       [ 0,  0,  0,  0, 64,  0,  0,  0,  0,  0],\n",
       "       [ 0,  0,  0,  0, 47,  0,  0,  0,  0,  0],\n",
       "       [ 0,  0,  0,  0, 59,  0,  0,  0,  0,  0],\n",
       "       [ 0,  0,  0,  0, 50,  0,  0,  0,  0,  0],\n",
       "       [ 0,  0,  0,  0, 50,  0,  0,  0,  0,  0]], dtype=int64)"
      ]
     },
     "execution_count": 30,
     "metadata": {},
     "output_type": "execute_result"
    }
   ],
   "source": [
    "#confusion matrix\n",
    "confusion_matrix(y_test,pred4)"
   ]
  },
  {
   "cell_type": "code",
   "execution_count": 31,
   "metadata": {},
   "outputs": [
    {
     "name": "stdout",
     "output_type": "stream",
     "text": [
      "             precision    recall  f1-score   support\n",
      "\n",
      "          0       1.00      0.98      0.99        58\n",
      "          1       0.98      0.94      0.96        52\n",
      "          2       1.00      0.98      0.99        58\n",
      "          3       1.00      0.97      0.98        59\n",
      "          4       0.98      0.98      0.98        43\n",
      "          5       0.95      0.98      0.97        64\n",
      "          6       0.98      0.98      0.98        47\n",
      "          7       0.97      0.98      0.97        59\n",
      "          8       0.94      0.98      0.96        50\n",
      "          9       0.96      0.98      0.97        50\n",
      "\n",
      "avg / total       0.98      0.98      0.98       540\n",
      "\n"
     ]
    }
   ],
   "source": [
    "#classification report\n",
    "print(classification_report(y_test,pred2))"
   ]
  }
 ],
 "metadata": {
  "kernelspec": {
   "display_name": "Python 3",
   "language": "python",
   "name": "python3"
  },
  "language_info": {
   "codemirror_mode": {
    "name": "ipython",
    "version": 3
   },
   "file_extension": ".py",
   "mimetype": "text/x-python",
   "name": "python",
   "nbconvert_exporter": "python",
   "pygments_lexer": "ipython3",
   "version": "3.6.5"
  }
 },
 "nbformat": 4,
 "nbformat_minor": 2
}
